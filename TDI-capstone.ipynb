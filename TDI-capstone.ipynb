{
 "cells": [
  {
   "cell_type": "markdown",
   "id": "f87cfab4",
   "metadata": {},
   "source": [
    "## Author: Aditya Sundar\n",
    "## Email: aditya.1094@gmail.com"
   ]
  },
  {
   "cell_type": "markdown",
   "id": "53bcf730",
   "metadata": {},
   "source": [
    "# Modules"
   ]
  },
  {
   "cell_type": "code",
   "execution_count": 48,
   "id": "2f484e29",
   "metadata": {},
   "outputs": [],
   "source": [
    "import pandas as pd \n",
    "import warnings\n",
    "warnings.filterwarnings(\"ignore\")\n",
    "import time\n",
    "import numpy as np\n",
    "import requests\n",
    "from bs4 import BeautifulSoup\n",
    "import plotly.express as px\n",
    "import plotly.graph_objects as go\n",
    "\n",
    "from selenium import webdriver\n",
    "from selenium.webdriver.edge.service import Service as EdgeService\n",
    "from webdriver_manager.microsoft import EdgeChromiumDriverManager\n",
    "from selenium.webdriver import ActionChains\n",
    "from selenium.webdriver.support import expected_conditions as EC\n",
    "from selenium.webdriver.common.keys import Keys\n",
    "from selenium.webdriver.support.ui import Select\n",
    "from selenium.webdriver.support.ui import WebDriverWait"
   ]
  },
  {
   "cell_type": "markdown",
   "id": "af734969",
   "metadata": {},
   "source": [
    "# Web scraping to get data for electric vehicles (EV) sales in the USA\n",
    "Data includes various types of electric vehicles, manufactured by several automobile companies"
   ]
  },
  {
   "cell_type": "code",
   "execution_count": 2,
   "id": "b3cd5e29",
   "metadata": {},
   "outputs": [],
   "source": [
    "url = 'https://www.atlasevhub.com/materials/state-ev-registration-data/#data'\n",
    "reqs = requests.get(url)\n",
    "soup = BeautifulSoup(reqs.text, 'html.parser')\n",
    "\n",
    "links=[link.get('href') for link in soup.find_all('a') ]\n",
    "data=[i for i in links if len(i.split('/'))>1 and i.split('/')[1]=='public']\n",
    "data=[i for i in data if i.split('.')[-1]=='csv']\n",
    "state_name=[i.split('/')[3].split('_')[0].upper() for i in data]\n",
    "\n",
    "dt=[]\n",
    "for i in data:\n",
    "    dt.append(pd.read_csv('https://www.atlasevhub.com/'+i))"
   ]
  },
  {
   "cell_type": "markdown",
   "id": "8b06049b",
   "metadata": {},
   "source": [
    "# Data cleaning \n",
    "The data is binned annually from 2000-2022. The earliest recorded year among all datasets is 2003. The latest recorded year is 2022. For organisation into a dataframe, cumulative EV sales for the year without any recorded data are assigned the value of min(0, cumulative EV sales for the previous year)."
   ]
  },
  {
   "cell_type": "code",
   "execution_count": 9,
   "id": "ad47b73e",
   "metadata": {},
   "outputs": [],
   "source": [
    "def padding(df,n):\n",
    "    df.loc[dtotal.shape[0]]=[2000,0,state_name[n]]\n",
    "    for i in range(2000,2023):\n",
    "        if i not in df['Date'].tolist():\n",
    "            df.loc[df.shape[0]]=[i,df.loc[df['Date']==i-1]['Count'].values[0],state_name[n]]\n",
    "    df=df.sort_values(by=['Date'])\n",
    "    df=df.set_index(pd.Series(range(df.shape[0])))\n",
    "    return df\n",
    "\n",
    "dtotal=dt[0][['Registration Valid Date']]\n",
    "dtotal['Registration Valid Date']=pd.to_datetime(dtotal['Registration Valid Date'])\n",
    "dtotal.rename({'Registration Valid Date':'Date'},axis=1, inplace=True)\n",
    "dtotal=dtotal.groupby(pd.to_datetime(dtotal['Date']).dt.year).count()\n",
    "dtotal.rename({'Date':'Count'},axis=1, inplace=True)\n",
    "dtotal['State']=state_name[0]\n",
    "dtotal['Count']=dtotal['Count'].cumsum()\n",
    "dtotal=dtotal.rename_axis('Date').reset_index()\n",
    "dtotal=padding(dtotal,0)\n",
    "\n",
    "for i in range(1,len(dt)):\n",
    "    dtem=dt[i][['Registration Valid Date']]\n",
    "    dtem['Registration Valid Date']=pd.to_datetime(dtem['Registration Valid Date'])\n",
    "    dtem.rename({'Registration Valid Date':'Date'},axis=1, inplace=True)\n",
    "    dtem=dtem.groupby(pd.to_datetime(dtem['Date']).dt.year).count()\n",
    "    dtem.rename({'Date':'Count'},axis=1, inplace=True)\n",
    "    dtem['State']=state_name[i]\n",
    "    dtem['Count']=dtem['Count'].cumsum()\n",
    "    dtem=dtem.rename_axis('Date').reset_index()\n",
    "    dtem=padding(dtem,i)\n",
    "    dtotal=pd.concat([dtotal,dtem],ignore_index=True)\n",
    "    \n",
    "dtotal['Date']=dtotal['Date'].astype(int)\n",
    "dtotal.head()\n",
    "\n",
    "# Export JSON file containing cumulative state-wise EV sales from 2000-2022\n",
    "dtotal.to_json('dtotal.json',orient='records')\n",
    "\n",
    "for i in range(len(state_name)):\n",
    "    if 'Vehicle Name' in dt[i].columns:\n",
    "        ds=dt[i][['Registration Valid Date','Vehicle Name']]\n",
    "        ds['Vehicle Name']=[i.split()[0] for i in ds['Vehicle Name']]\n",
    "        ds.rename(columns = {'Registration Valid Date':'Date','Vehicle Name':'Make'}, inplace = True)\n",
    "    elif 'Make' in dt[i].columns:\n",
    "        ds=dt[i][['Registration Valid Date','Make']]\n",
    "        ds['Make']=[i.split()[0] for i in ds['Make']]\n",
    "        ds.rename(columns = {'Registration Valid Date':'Date','Make':'Make'}, inplace = True)\n",
    "    ds.to_json(state_name[i]+'_data.json',orient='records')"
   ]
  },
  {
   "cell_type": "markdown",
   "id": "8942d4b9",
   "metadata": {},
   "source": [
    "# Visualisation of EV sales: state-wise and year-wise"
   ]
  },
  {
   "cell_type": "code",
   "execution_count": 465,
   "id": "2ab4a75c",
   "metadata": {},
   "outputs": [
    {
     "data": {
      "application/vnd.plotly.v1+json": {
       "config": {
        "plotlyServerURL": "https://plot.ly"
       },
       "data": [
        {
         "coloraxis": "coloraxis",
         "geo": "geo",
         "hovertemplate": "Date=2000<br>State=%{location}<br>Count=%{z}<extra></extra>",
         "locationmode": "USA-states",
         "locations": [
          "CA",
          "CO",
          "CT",
          "FL",
          "MT",
          "MI",
          "MN",
          "NJ",
          "NY",
          "OR",
          "TN",
          "TX",
          "VT",
          "VA",
          "WA",
          "WI"
         ],
         "name": "",
         "type": "choropleth",
         "z": [
          0,
          0,
          0,
          0,
          0,
          0,
          0,
          0,
          0,
          0,
          0,
          0,
          0,
          0,
          0,
          0
         ]
        }
       ],
       "frames": [
        {
         "data": [
          {
           "coloraxis": "coloraxis",
           "geo": "geo",
           "hovertemplate": "Date=2000<br>State=%{location}<br>Count=%{z}<extra></extra>",
           "locationmode": "USA-states",
           "locations": [
            "CA",
            "CO",
            "CT",
            "FL",
            "MT",
            "MI",
            "MN",
            "NJ",
            "NY",
            "OR",
            "TN",
            "TX",
            "VT",
            "VA",
            "WA",
            "WI"
           ],
           "name": "",
           "type": "choropleth",
           "z": [
            0,
            0,
            0,
            0,
            0,
            0,
            0,
            0,
            0,
            0,
            0,
            0,
            0,
            0,
            0,
            0
           ]
          }
         ],
         "name": "2000"
        },
        {
         "data": [
          {
           "coloraxis": "coloraxis",
           "geo": "geo",
           "hovertemplate": "Date=2001<br>State=%{location}<br>Count=%{z}<extra></extra>",
           "locationmode": "USA-states",
           "locations": [
            "CA",
            "CO",
            "CT",
            "FL",
            "MT",
            "MI",
            "MN",
            "NJ",
            "NY",
            "OR",
            "TN",
            "TX",
            "VT",
            "VA",
            "WA",
            "WI"
           ],
           "name": "",
           "type": "choropleth",
           "z": [
            0,
            0,
            0,
            0,
            0,
            0,
            0,
            0,
            0,
            0,
            0,
            0,
            0,
            0,
            0,
            0
           ]
          }
         ],
         "name": "2001"
        },
        {
         "data": [
          {
           "coloraxis": "coloraxis",
           "geo": "geo",
           "hovertemplate": "Date=2002<br>State=%{location}<br>Count=%{z}<extra></extra>",
           "locationmode": "USA-states",
           "locations": [
            "CA",
            "CO",
            "CT",
            "FL",
            "MT",
            "MI",
            "MN",
            "NJ",
            "NY",
            "OR",
            "TN",
            "TX",
            "VT",
            "VA",
            "WA",
            "WI"
           ],
           "name": "",
           "type": "choropleth",
           "z": [
            0,
            0,
            0,
            0,
            0,
            0,
            0,
            0,
            0,
            0,
            0,
            0,
            0,
            8,
            0,
            0
           ]
          }
         ],
         "name": "2002"
        },
        {
         "data": [
          {
           "coloraxis": "coloraxis",
           "geo": "geo",
           "hovertemplate": "Date=2003<br>State=%{location}<br>Count=%{z}<extra></extra>",
           "locationmode": "USA-states",
           "locations": [
            "CA",
            "CO",
            "CT",
            "FL",
            "MT",
            "MI",
            "MN",
            "NJ",
            "NY",
            "OR",
            "TN",
            "TX",
            "VT",
            "VA",
            "WA",
            "WI"
           ],
           "name": "",
           "type": "choropleth",
           "z": [
            0,
            0,
            0,
            0,
            1,
            0,
            0,
            0,
            0,
            0,
            0,
            0,
            44,
            13,
            0,
            0
           ]
          }
         ],
         "name": "2003"
        },
        {
         "data": [
          {
           "coloraxis": "coloraxis",
           "geo": "geo",
           "hovertemplate": "Date=2004<br>State=%{location}<br>Count=%{z}<extra></extra>",
           "locationmode": "USA-states",
           "locations": [
            "CA",
            "CO",
            "CT",
            "FL",
            "MT",
            "MI",
            "MN",
            "NJ",
            "NY",
            "OR",
            "TN",
            "TX",
            "VT",
            "VA",
            "WA",
            "WI"
           ],
           "name": "",
           "type": "choropleth",
           "z": [
            0,
            0,
            0,
            0,
            13,
            0,
            0,
            0,
            0,
            0,
            0,
            0,
            44,
            18,
            0,
            0
           ]
          }
         ],
         "name": "2004"
        },
        {
         "data": [
          {
           "coloraxis": "coloraxis",
           "geo": "geo",
           "hovertemplate": "Date=2005<br>State=%{location}<br>Count=%{z}<extra></extra>",
           "locationmode": "USA-states",
           "locations": [
            "CA",
            "CO",
            "CT",
            "FL",
            "MT",
            "MI",
            "MN",
            "NJ",
            "NY",
            "OR",
            "TN",
            "TX",
            "VT",
            "VA",
            "WA",
            "WI"
           ],
           "name": "",
           "type": "choropleth",
           "z": [
            0,
            0,
            0,
            0,
            17,
            0,
            0,
            0,
            0,
            0,
            0,
            0,
            46,
            23,
            0,
            0
           ]
          }
         ],
         "name": "2005"
        },
        {
         "data": [
          {
           "coloraxis": "coloraxis",
           "geo": "geo",
           "hovertemplate": "Date=2006<br>State=%{location}<br>Count=%{z}<extra></extra>",
           "locationmode": "USA-states",
           "locations": [
            "CA",
            "CO",
            "CT",
            "FL",
            "MT",
            "MI",
            "MN",
            "NJ",
            "NY",
            "OR",
            "TN",
            "TX",
            "VT",
            "VA",
            "WA",
            "WI"
           ],
           "name": "",
           "type": "choropleth",
           "z": [
            0,
            0,
            0,
            0,
            18,
            0,
            0,
            0,
            0,
            0,
            0,
            0,
            48,
            58,
            0,
            0
           ]
          }
         ],
         "name": "2006"
        },
        {
         "data": [
          {
           "coloraxis": "coloraxis",
           "geo": "geo",
           "hovertemplate": "Date=2007<br>State=%{location}<br>Count=%{z}<extra></extra>",
           "locationmode": "USA-states",
           "locations": [
            "CA",
            "CO",
            "CT",
            "FL",
            "MT",
            "MI",
            "MN",
            "NJ",
            "NY",
            "OR",
            "TN",
            "TX",
            "VT",
            "VA",
            "WA",
            "WI"
           ],
           "name": "",
           "type": "choropleth",
           "z": [
            0,
            0,
            0,
            0,
            19,
            0,
            0,
            0,
            0,
            0,
            0,
            0,
            54,
            73,
            0,
            0
           ]
          }
         ],
         "name": "2007"
        },
        {
         "data": [
          {
           "coloraxis": "coloraxis",
           "geo": "geo",
           "hovertemplate": "Date=2008<br>State=%{location}<br>Count=%{z}<extra></extra>",
           "locationmode": "USA-states",
           "locations": [
            "CA",
            "CO",
            "CT",
            "FL",
            "MT",
            "MI",
            "MN",
            "NJ",
            "NY",
            "OR",
            "TN",
            "TX",
            "VT",
            "VA",
            "WA",
            "WI"
           ],
           "name": "",
           "type": "choropleth",
           "z": [
            0,
            0,
            0,
            0,
            34,
            0,
            43,
            0,
            0,
            0,
            0,
            0,
            64,
            73,
            0,
            0
           ]
          }
         ],
         "name": "2008"
        },
        {
         "data": [
          {
           "coloraxis": "coloraxis",
           "geo": "geo",
           "hovertemplate": "Date=2009<br>State=%{location}<br>Count=%{z}<extra></extra>",
           "locationmode": "USA-states",
           "locations": [
            "CA",
            "CO",
            "CT",
            "FL",
            "MT",
            "MI",
            "MN",
            "NJ",
            "NY",
            "OR",
            "TN",
            "TX",
            "VT",
            "VA",
            "WA",
            "WI"
           ],
           "name": "",
           "type": "choropleth",
           "z": [
            0,
            0,
            0,
            0,
            48,
            0,
            55,
            0,
            0,
            0,
            0,
            0,
            68,
            102,
            0,
            0
           ]
          }
         ],
         "name": "2009"
        },
        {
         "data": [
          {
           "coloraxis": "coloraxis",
           "geo": "geo",
           "hovertemplate": "Date=2010<br>State=%{location}<br>Count=%{z}<extra></extra>",
           "locationmode": "USA-states",
           "locations": [
            "CA",
            "CO",
            "CT",
            "FL",
            "MT",
            "MI",
            "MN",
            "NJ",
            "NY",
            "OR",
            "TN",
            "TX",
            "VT",
            "VA",
            "WA",
            "WI"
           ],
           "name": "",
           "type": "choropleth",
           "z": [
            754,
            220,
            0,
            0,
            62,
            0,
            55,
            0,
            0,
            0,
            0,
            0,
            70,
            117,
            77,
            0
           ]
          }
         ],
         "name": "2010"
        },
        {
         "data": [
          {
           "coloraxis": "coloraxis",
           "geo": "geo",
           "hovertemplate": "Date=2011<br>State=%{location}<br>Count=%{z}<extra></extra>",
           "locationmode": "USA-states",
           "locations": [
            "CA",
            "CO",
            "CT",
            "FL",
            "MT",
            "MI",
            "MN",
            "NJ",
            "NY",
            "OR",
            "TN",
            "TX",
            "VT",
            "VA",
            "WA",
            "WI"
           ],
           "name": "",
           "type": "choropleth",
           "z": [
            6611,
            528,
            1,
            0,
            72,
            0,
            75,
            0,
            2231,
            0,
            0,
            0,
            90,
            158,
            2531,
            0
           ]
          }
         ],
         "name": "2011"
        },
        {
         "data": [
          {
           "coloraxis": "coloraxis",
           "geo": "geo",
           "hovertemplate": "Date=2012<br>State=%{location}<br>Count=%{z}<extra></extra>",
           "locationmode": "USA-states",
           "locations": [
            "CA",
            "CO",
            "CT",
            "FL",
            "MT",
            "MI",
            "MN",
            "NJ",
            "NY",
            "OR",
            "TN",
            "TX",
            "VT",
            "VA",
            "WA",
            "WI"
           ],
           "name": "",
           "type": "choropleth",
           "z": [
            24967,
            1574,
            24,
            0,
            90,
            0,
            123,
            0,
            10208,
            0,
            0,
            0,
            194,
            195,
            7450,
            0
           ]
          }
         ],
         "name": "2012"
        },
        {
         "data": [
          {
           "coloraxis": "coloraxis",
           "geo": "geo",
           "hovertemplate": "Date=2013<br>State=%{location}<br>Count=%{z}<extra></extra>",
           "locationmode": "USA-states",
           "locations": [
            "CA",
            "CO",
            "CT",
            "FL",
            "MT",
            "MI",
            "MN",
            "NJ",
            "NY",
            "OR",
            "TN",
            "TX",
            "VT",
            "VA",
            "WA",
            "WI"
           ],
           "name": "",
           "type": "choropleth",
           "z": [
            77394,
            4103,
            113,
            0,
            118,
            3,
            242,
            0,
            20749,
            0,
            0,
            0,
            381,
            251,
            20264,
            0
           ]
          }
         ],
         "name": "2013"
        },
        {
         "data": [
          {
           "coloraxis": "coloraxis",
           "geo": "geo",
           "hovertemplate": "Date=2014<br>State=%{location}<br>Count=%{z}<extra></extra>",
           "locationmode": "USA-states",
           "locations": [
            "CA",
            "CO",
            "CT",
            "FL",
            "MT",
            "MI",
            "MN",
            "NJ",
            "NY",
            "OR",
            "TN",
            "TX",
            "VT",
            "VA",
            "WA",
            "WI"
           ],
           "name": "",
           "type": "choropleth",
           "z": [
            186333,
            8232,
            626,
            0,
            161,
            394,
            381,
            0,
            65356,
            0,
            0,
            0,
            541,
            293,
            38033,
            0
           ]
          }
         ],
         "name": "2014"
        },
        {
         "data": [
          {
           "coloraxis": "coloraxis",
           "geo": "geo",
           "hovertemplate": "Date=2015<br>State=%{location}<br>Count=%{z}<extra></extra>",
           "locationmode": "USA-states",
           "locations": [
            "CA",
            "CO",
            "CT",
            "FL",
            "MT",
            "MI",
            "MN",
            "NJ",
            "NY",
            "OR",
            "TN",
            "TX",
            "VT",
            "VA",
            "WA",
            "WI"
           ],
           "name": "",
           "type": "choropleth",
           "z": [
            352501,
            14294,
            2606,
            0,
            213,
            949,
            659,
            0,
            109361,
            0,
            0,
            0,
            942,
            588,
            61239,
            0
           ]
          }
         ],
         "name": "2015"
        },
        {
         "data": [
          {
           "coloraxis": "coloraxis",
           "geo": "geo",
           "hovertemplate": "Date=2016<br>State=%{location}<br>Count=%{z}<extra></extra>",
           "locationmode": "USA-states",
           "locations": [
            "CA",
            "CO",
            "CT",
            "FL",
            "MT",
            "MI",
            "MN",
            "NJ",
            "NY",
            "OR",
            "TN",
            "TX",
            "VT",
            "VA",
            "WA",
            "WI"
           ],
           "name": "",
           "type": "choropleth",
           "z": [
            582672,
            23258,
            5220,
            0,
            272,
            1700,
            2372,
            0,
            210072,
            0,
            0,
            0,
            2046,
            3194,
            91935,
            0
           ]
          }
         ],
         "name": "2016"
        },
        {
         "data": [
          {
           "coloraxis": "coloraxis",
           "geo": "geo",
           "hovertemplate": "Date=2017<br>State=%{location}<br>Count=%{z}<extra></extra>",
           "locationmode": "USA-states",
           "locations": [
            "CA",
            "CO",
            "CT",
            "FL",
            "MT",
            "MI",
            "MN",
            "NJ",
            "NY",
            "OR",
            "TN",
            "TX",
            "VT",
            "VA",
            "WA",
            "WI"
           ],
           "name": "",
           "type": "choropleth",
           "z": [
            905434,
            36438,
            5220,
            0,
            404,
            9692,
            5966,
            23969,
            475178,
            0,
            0,
            0,
            4106,
            15605,
            131807,
            0
           ]
          }
         ],
         "name": "2017"
        },
        {
         "data": [
          {
           "coloraxis": "coloraxis",
           "geo": "geo",
           "hovertemplate": "Date=2018<br>State=%{location}<br>Count=%{z}<extra></extra>",
           "locationmode": "USA-states",
           "locations": [
            "CA",
            "CO",
            "CT",
            "FL",
            "MT",
            "MI",
            "MN",
            "NJ",
            "NY",
            "OR",
            "TN",
            "TX",
            "VT",
            "VA",
            "WA",
            "WI"
           ],
           "name": "",
           "type": "choropleth",
           "z": [
            1354001,
            54461,
            11439,
            67209,
            1270,
            16741,
            23137,
            64388,
            987517,
            0,
            0,
            0,
            6080,
            35124,
            191083,
            6366
           ]
          }
         ],
         "name": "2018"
        },
        {
         "data": [
          {
           "coloraxis": "coloraxis",
           "geo": "geo",
           "hovertemplate": "Date=2019<br>State=%{location}<br>Count=%{z}<extra></extra>",
           "locationmode": "USA-states",
           "locations": [
            "CA",
            "CO",
            "CT",
            "FL",
            "MT",
            "MI",
            "MN",
            "NJ",
            "NY",
            "OR",
            "TN",
            "TX",
            "VT",
            "VA",
            "WA",
            "WI"
           ],
           "name": "",
           "type": "choropleth",
           "z": [
            1913970,
            250959,
            11439,
            124189,
            1641,
            42209,
            32243,
            121294,
            1611480,
            25801,
            32701,
            0,
            6196,
            64060,
            541933,
            10577
           ]
          }
         ],
         "name": "2019"
        },
        {
         "data": [
          {
           "coloraxis": "coloraxis",
           "geo": "geo",
           "hovertemplate": "Date=2020<br>State=%{location}<br>Count=%{z}<extra></extra>",
           "locationmode": "USA-states",
           "locations": [
            "CA",
            "CO",
            "CT",
            "FL",
            "MT",
            "MI",
            "MN",
            "NJ",
            "NY",
            "OR",
            "TN",
            "TX",
            "VT",
            "VA",
            "WA",
            "WI"
           ],
           "name": "",
           "type": "choropleth",
           "z": [
            2542443,
            638228,
            11439,
            260753,
            3090,
            43628,
            44455,
            196900,
            2327870,
            40247,
            70430,
            156328,
            6196,
            94176,
            1225252,
            15743
           ]
          }
         ],
         "name": "2020"
        },
        {
         "data": [
          {
           "coloraxis": "coloraxis",
           "geo": "geo",
           "hovertemplate": "Date=2021<br>State=%{location}<br>Count=%{z}<extra></extra>",
           "locationmode": "USA-states",
           "locations": [
            "CA",
            "CO",
            "CT",
            "FL",
            "MT",
            "MI",
            "MN",
            "NJ",
            "NY",
            "OR",
            "TN",
            "TX",
            "VT",
            "VA",
            "WA",
            "WI"
           ],
           "name": "",
           "type": "choropleth",
           "z": [
            2542443,
            1034147,
            11439,
            353974,
            5552,
            43628,
            113033,
            309872,
            2961294,
            40247,
            128451,
            971263,
            6196,
            126954,
            2106411,
            21531
           ]
          }
         ],
         "name": "2021"
        },
        {
         "data": [
          {
           "coloraxis": "coloraxis",
           "geo": "geo",
           "hovertemplate": "Date=2022<br>State=%{location}<br>Count=%{z}<extra></extra>",
           "locationmode": "USA-states",
           "locations": [
            "CA",
            "CO",
            "CT",
            "FL",
            "MT",
            "MI",
            "MN",
            "NJ",
            "NY",
            "OR",
            "TN",
            "TX",
            "VT",
            "VA",
            "WA",
            "WI"
           ],
           "name": "",
           "type": "choropleth",
           "z": [
            2542443,
            1075022,
            11439,
            353974,
            5730,
            43628,
            124145,
            309872,
            3012592,
            40247,
            167301,
            1033202,
            6196,
            126989,
            2456028,
            29120
           ]
          }
         ],
         "name": "2022"
        }
       ],
       "layout": {
        "coloraxis": {
         "colorbar": {
          "title": {
           "text": "Count"
          }
         },
         "colorscale": [
          [
           0,
           "#fde725"
          ],
          [
           0.1111111111111111,
           "#b5de2b"
          ],
          [
           0.2222222222222222,
           "#6ece58"
          ],
          [
           0.3333333333333333,
           "#35b779"
          ],
          [
           0.4444444444444444,
           "#1f9e89"
          ],
          [
           0.5555555555555556,
           "#26828e"
          ],
          [
           0.6666666666666666,
           "#31688e"
          ],
          [
           0.7777777777777778,
           "#3e4989"
          ],
          [
           0.8888888888888888,
           "#482878"
          ],
          [
           1,
           "#440154"
          ]
         ]
        },
        "geo": {
         "center": {},
         "domain": {
          "x": [
           0,
           1
          ],
          "y": [
           0,
           1
          ]
         },
         "scope": "usa"
        },
        "height": 500,
        "legend": {
         "tracegroupgap": 0
        },
        "margin": {
         "b": 0,
         "l": 0,
         "r": 100,
         "t": 100
        },
        "sliders": [
         {
          "active": 0,
          "currentvalue": {
           "prefix": "Year="
          },
          "len": 0.9,
          "pad": {
           "b": 10,
           "t": 60
          },
          "steps": [
           {
            "args": [
             [
              "2000"
             ],
             {
              "frame": {
               "duration": 0,
               "redraw": true
              },
              "fromcurrent": true,
              "mode": "immediate",
              "transition": {
               "duration": 0,
               "easing": "linear"
              }
             }
            ],
            "label": "2000",
            "method": "animate"
           },
           {
            "args": [
             [
              "2001"
             ],
             {
              "frame": {
               "duration": 0,
               "redraw": true
              },
              "fromcurrent": true,
              "mode": "immediate",
              "transition": {
               "duration": 0,
               "easing": "linear"
              }
             }
            ],
            "label": "2001",
            "method": "animate"
           },
           {
            "args": [
             [
              "2002"
             ],
             {
              "frame": {
               "duration": 0,
               "redraw": true
              },
              "fromcurrent": true,
              "mode": "immediate",
              "transition": {
               "duration": 0,
               "easing": "linear"
              }
             }
            ],
            "label": "2002",
            "method": "animate"
           },
           {
            "args": [
             [
              "2003"
             ],
             {
              "frame": {
               "duration": 0,
               "redraw": true
              },
              "fromcurrent": true,
              "mode": "immediate",
              "transition": {
               "duration": 0,
               "easing": "linear"
              }
             }
            ],
            "label": "2003",
            "method": "animate"
           },
           {
            "args": [
             [
              "2004"
             ],
             {
              "frame": {
               "duration": 0,
               "redraw": true
              },
              "fromcurrent": true,
              "mode": "immediate",
              "transition": {
               "duration": 0,
               "easing": "linear"
              }
             }
            ],
            "label": "2004",
            "method": "animate"
           },
           {
            "args": [
             [
              "2005"
             ],
             {
              "frame": {
               "duration": 0,
               "redraw": true
              },
              "fromcurrent": true,
              "mode": "immediate",
              "transition": {
               "duration": 0,
               "easing": "linear"
              }
             }
            ],
            "label": "2005",
            "method": "animate"
           },
           {
            "args": [
             [
              "2006"
             ],
             {
              "frame": {
               "duration": 0,
               "redraw": true
              },
              "fromcurrent": true,
              "mode": "immediate",
              "transition": {
               "duration": 0,
               "easing": "linear"
              }
             }
            ],
            "label": "2006",
            "method": "animate"
           },
           {
            "args": [
             [
              "2007"
             ],
             {
              "frame": {
               "duration": 0,
               "redraw": true
              },
              "fromcurrent": true,
              "mode": "immediate",
              "transition": {
               "duration": 0,
               "easing": "linear"
              }
             }
            ],
            "label": "2007",
            "method": "animate"
           },
           {
            "args": [
             [
              "2008"
             ],
             {
              "frame": {
               "duration": 0,
               "redraw": true
              },
              "fromcurrent": true,
              "mode": "immediate",
              "transition": {
               "duration": 0,
               "easing": "linear"
              }
             }
            ],
            "label": "2008",
            "method": "animate"
           },
           {
            "args": [
             [
              "2009"
             ],
             {
              "frame": {
               "duration": 0,
               "redraw": true
              },
              "fromcurrent": true,
              "mode": "immediate",
              "transition": {
               "duration": 0,
               "easing": "linear"
              }
             }
            ],
            "label": "2009",
            "method": "animate"
           },
           {
            "args": [
             [
              "2010"
             ],
             {
              "frame": {
               "duration": 0,
               "redraw": true
              },
              "fromcurrent": true,
              "mode": "immediate",
              "transition": {
               "duration": 0,
               "easing": "linear"
              }
             }
            ],
            "label": "2010",
            "method": "animate"
           },
           {
            "args": [
             [
              "2011"
             ],
             {
              "frame": {
               "duration": 0,
               "redraw": true
              },
              "fromcurrent": true,
              "mode": "immediate",
              "transition": {
               "duration": 0,
               "easing": "linear"
              }
             }
            ],
            "label": "2011",
            "method": "animate"
           },
           {
            "args": [
             [
              "2012"
             ],
             {
              "frame": {
               "duration": 0,
               "redraw": true
              },
              "fromcurrent": true,
              "mode": "immediate",
              "transition": {
               "duration": 0,
               "easing": "linear"
              }
             }
            ],
            "label": "2012",
            "method": "animate"
           },
           {
            "args": [
             [
              "2013"
             ],
             {
              "frame": {
               "duration": 0,
               "redraw": true
              },
              "fromcurrent": true,
              "mode": "immediate",
              "transition": {
               "duration": 0,
               "easing": "linear"
              }
             }
            ],
            "label": "2013",
            "method": "animate"
           },
           {
            "args": [
             [
              "2014"
             ],
             {
              "frame": {
               "duration": 0,
               "redraw": true
              },
              "fromcurrent": true,
              "mode": "immediate",
              "transition": {
               "duration": 0,
               "easing": "linear"
              }
             }
            ],
            "label": "2014",
            "method": "animate"
           },
           {
            "args": [
             [
              "2015"
             ],
             {
              "frame": {
               "duration": 0,
               "redraw": true
              },
              "fromcurrent": true,
              "mode": "immediate",
              "transition": {
               "duration": 0,
               "easing": "linear"
              }
             }
            ],
            "label": "2015",
            "method": "animate"
           },
           {
            "args": [
             [
              "2016"
             ],
             {
              "frame": {
               "duration": 0,
               "redraw": true
              },
              "fromcurrent": true,
              "mode": "immediate",
              "transition": {
               "duration": 0,
               "easing": "linear"
              }
             }
            ],
            "label": "2016",
            "method": "animate"
           },
           {
            "args": [
             [
              "2017"
             ],
             {
              "frame": {
               "duration": 0,
               "redraw": true
              },
              "fromcurrent": true,
              "mode": "immediate",
              "transition": {
               "duration": 0,
               "easing": "linear"
              }
             }
            ],
            "label": "2017",
            "method": "animate"
           },
           {
            "args": [
             [
              "2018"
             ],
             {
              "frame": {
               "duration": 0,
               "redraw": true
              },
              "fromcurrent": true,
              "mode": "immediate",
              "transition": {
               "duration": 0,
               "easing": "linear"
              }
             }
            ],
            "label": "2018",
            "method": "animate"
           },
           {
            "args": [
             [
              "2019"
             ],
             {
              "frame": {
               "duration": 0,
               "redraw": true
              },
              "fromcurrent": true,
              "mode": "immediate",
              "transition": {
               "duration": 0,
               "easing": "linear"
              }
             }
            ],
            "label": "2019",
            "method": "animate"
           },
           {
            "args": [
             [
              "2020"
             ],
             {
              "frame": {
               "duration": 0,
               "redraw": true
              },
              "fromcurrent": true,
              "mode": "immediate",
              "transition": {
               "duration": 0,
               "easing": "linear"
              }
             }
            ],
            "label": "2020",
            "method": "animate"
           },
           {
            "args": [
             [
              "2021"
             ],
             {
              "frame": {
               "duration": 0,
               "redraw": true
              },
              "fromcurrent": true,
              "mode": "immediate",
              "transition": {
               "duration": 0,
               "easing": "linear"
              }
             }
            ],
            "label": "2021",
            "method": "animate"
           },
           {
            "args": [
             [
              "2022"
             ],
             {
              "frame": {
               "duration": 0,
               "redraw": true
              },
              "fromcurrent": true,
              "mode": "immediate",
              "transition": {
               "duration": 0,
               "easing": "linear"
              }
             }
            ],
            "label": "2022",
            "method": "animate"
           }
          ],
          "x": 0.1,
          "xanchor": "left",
          "y": 0,
          "yanchor": "top"
         }
        ],
        "template": {
         "data": {
          "bar": [
           {
            "error_x": {
             "color": "#2a3f5f"
            },
            "error_y": {
             "color": "#2a3f5f"
            },
            "marker": {
             "line": {
              "color": "#E5ECF6",
              "width": 0.5
             },
             "pattern": {
              "fillmode": "overlay",
              "size": 10,
              "solidity": 0.2
             }
            },
            "type": "bar"
           }
          ],
          "barpolar": [
           {
            "marker": {
             "line": {
              "color": "#E5ECF6",
              "width": 0.5
             },
             "pattern": {
              "fillmode": "overlay",
              "size": 10,
              "solidity": 0.2
             }
            },
            "type": "barpolar"
           }
          ],
          "carpet": [
           {
            "aaxis": {
             "endlinecolor": "#2a3f5f",
             "gridcolor": "white",
             "linecolor": "white",
             "minorgridcolor": "white",
             "startlinecolor": "#2a3f5f"
            },
            "baxis": {
             "endlinecolor": "#2a3f5f",
             "gridcolor": "white",
             "linecolor": "white",
             "minorgridcolor": "white",
             "startlinecolor": "#2a3f5f"
            },
            "type": "carpet"
           }
          ],
          "choropleth": [
           {
            "colorbar": {
             "outlinewidth": 0,
             "ticks": ""
            },
            "type": "choropleth"
           }
          ],
          "contour": [
           {
            "colorbar": {
             "outlinewidth": 0,
             "ticks": ""
            },
            "colorscale": [
             [
              0,
              "#0d0887"
             ],
             [
              0.1111111111111111,
              "#46039f"
             ],
             [
              0.2222222222222222,
              "#7201a8"
             ],
             [
              0.3333333333333333,
              "#9c179e"
             ],
             [
              0.4444444444444444,
              "#bd3786"
             ],
             [
              0.5555555555555556,
              "#d8576b"
             ],
             [
              0.6666666666666666,
              "#ed7953"
             ],
             [
              0.7777777777777778,
              "#fb9f3a"
             ],
             [
              0.8888888888888888,
              "#fdca26"
             ],
             [
              1,
              "#f0f921"
             ]
            ],
            "type": "contour"
           }
          ],
          "contourcarpet": [
           {
            "colorbar": {
             "outlinewidth": 0,
             "ticks": ""
            },
            "type": "contourcarpet"
           }
          ],
          "heatmap": [
           {
            "colorbar": {
             "outlinewidth": 0,
             "ticks": ""
            },
            "colorscale": [
             [
              0,
              "#0d0887"
             ],
             [
              0.1111111111111111,
              "#46039f"
             ],
             [
              0.2222222222222222,
              "#7201a8"
             ],
             [
              0.3333333333333333,
              "#9c179e"
             ],
             [
              0.4444444444444444,
              "#bd3786"
             ],
             [
              0.5555555555555556,
              "#d8576b"
             ],
             [
              0.6666666666666666,
              "#ed7953"
             ],
             [
              0.7777777777777778,
              "#fb9f3a"
             ],
             [
              0.8888888888888888,
              "#fdca26"
             ],
             [
              1,
              "#f0f921"
             ]
            ],
            "type": "heatmap"
           }
          ],
          "heatmapgl": [
           {
            "colorbar": {
             "outlinewidth": 0,
             "ticks": ""
            },
            "colorscale": [
             [
              0,
              "#0d0887"
             ],
             [
              0.1111111111111111,
              "#46039f"
             ],
             [
              0.2222222222222222,
              "#7201a8"
             ],
             [
              0.3333333333333333,
              "#9c179e"
             ],
             [
              0.4444444444444444,
              "#bd3786"
             ],
             [
              0.5555555555555556,
              "#d8576b"
             ],
             [
              0.6666666666666666,
              "#ed7953"
             ],
             [
              0.7777777777777778,
              "#fb9f3a"
             ],
             [
              0.8888888888888888,
              "#fdca26"
             ],
             [
              1,
              "#f0f921"
             ]
            ],
            "type": "heatmapgl"
           }
          ],
          "histogram": [
           {
            "marker": {
             "pattern": {
              "fillmode": "overlay",
              "size": 10,
              "solidity": 0.2
             }
            },
            "type": "histogram"
           }
          ],
          "histogram2d": [
           {
            "colorbar": {
             "outlinewidth": 0,
             "ticks": ""
            },
            "colorscale": [
             [
              0,
              "#0d0887"
             ],
             [
              0.1111111111111111,
              "#46039f"
             ],
             [
              0.2222222222222222,
              "#7201a8"
             ],
             [
              0.3333333333333333,
              "#9c179e"
             ],
             [
              0.4444444444444444,
              "#bd3786"
             ],
             [
              0.5555555555555556,
              "#d8576b"
             ],
             [
              0.6666666666666666,
              "#ed7953"
             ],
             [
              0.7777777777777778,
              "#fb9f3a"
             ],
             [
              0.8888888888888888,
              "#fdca26"
             ],
             [
              1,
              "#f0f921"
             ]
            ],
            "type": "histogram2d"
           }
          ],
          "histogram2dcontour": [
           {
            "colorbar": {
             "outlinewidth": 0,
             "ticks": ""
            },
            "colorscale": [
             [
              0,
              "#0d0887"
             ],
             [
              0.1111111111111111,
              "#46039f"
             ],
             [
              0.2222222222222222,
              "#7201a8"
             ],
             [
              0.3333333333333333,
              "#9c179e"
             ],
             [
              0.4444444444444444,
              "#bd3786"
             ],
             [
              0.5555555555555556,
              "#d8576b"
             ],
             [
              0.6666666666666666,
              "#ed7953"
             ],
             [
              0.7777777777777778,
              "#fb9f3a"
             ],
             [
              0.8888888888888888,
              "#fdca26"
             ],
             [
              1,
              "#f0f921"
             ]
            ],
            "type": "histogram2dcontour"
           }
          ],
          "mesh3d": [
           {
            "colorbar": {
             "outlinewidth": 0,
             "ticks": ""
            },
            "type": "mesh3d"
           }
          ],
          "parcoords": [
           {
            "line": {
             "colorbar": {
              "outlinewidth": 0,
              "ticks": ""
             }
            },
            "type": "parcoords"
           }
          ],
          "pie": [
           {
            "automargin": true,
            "type": "pie"
           }
          ],
          "scatter": [
           {
            "fillpattern": {
             "fillmode": "overlay",
             "size": 10,
             "solidity": 0.2
            },
            "type": "scatter"
           }
          ],
          "scatter3d": [
           {
            "line": {
             "colorbar": {
              "outlinewidth": 0,
              "ticks": ""
             }
            },
            "marker": {
             "colorbar": {
              "outlinewidth": 0,
              "ticks": ""
             }
            },
            "type": "scatter3d"
           }
          ],
          "scattercarpet": [
           {
            "marker": {
             "colorbar": {
              "outlinewidth": 0,
              "ticks": ""
             }
            },
            "type": "scattercarpet"
           }
          ],
          "scattergeo": [
           {
            "marker": {
             "colorbar": {
              "outlinewidth": 0,
              "ticks": ""
             }
            },
            "type": "scattergeo"
           }
          ],
          "scattergl": [
           {
            "marker": {
             "colorbar": {
              "outlinewidth": 0,
              "ticks": ""
             }
            },
            "type": "scattergl"
           }
          ],
          "scattermapbox": [
           {
            "marker": {
             "colorbar": {
              "outlinewidth": 0,
              "ticks": ""
             }
            },
            "type": "scattermapbox"
           }
          ],
          "scatterpolar": [
           {
            "marker": {
             "colorbar": {
              "outlinewidth": 0,
              "ticks": ""
             }
            },
            "type": "scatterpolar"
           }
          ],
          "scatterpolargl": [
           {
            "marker": {
             "colorbar": {
              "outlinewidth": 0,
              "ticks": ""
             }
            },
            "type": "scatterpolargl"
           }
          ],
          "scatterternary": [
           {
            "marker": {
             "colorbar": {
              "outlinewidth": 0,
              "ticks": ""
             }
            },
            "type": "scatterternary"
           }
          ],
          "surface": [
           {
            "colorbar": {
             "outlinewidth": 0,
             "ticks": ""
            },
            "colorscale": [
             [
              0,
              "#0d0887"
             ],
             [
              0.1111111111111111,
              "#46039f"
             ],
             [
              0.2222222222222222,
              "#7201a8"
             ],
             [
              0.3333333333333333,
              "#9c179e"
             ],
             [
              0.4444444444444444,
              "#bd3786"
             ],
             [
              0.5555555555555556,
              "#d8576b"
             ],
             [
              0.6666666666666666,
              "#ed7953"
             ],
             [
              0.7777777777777778,
              "#fb9f3a"
             ],
             [
              0.8888888888888888,
              "#fdca26"
             ],
             [
              1,
              "#f0f921"
             ]
            ],
            "type": "surface"
           }
          ],
          "table": [
           {
            "cells": {
             "fill": {
              "color": "#EBF0F8"
             },
             "line": {
              "color": "white"
             }
            },
            "header": {
             "fill": {
              "color": "#C8D4E3"
             },
             "line": {
              "color": "white"
             }
            },
            "type": "table"
           }
          ]
         },
         "layout": {
          "annotationdefaults": {
           "arrowcolor": "#2a3f5f",
           "arrowhead": 0,
           "arrowwidth": 1
          },
          "autotypenumbers": "strict",
          "coloraxis": {
           "colorbar": {
            "outlinewidth": 0,
            "ticks": ""
           }
          },
          "colorscale": {
           "diverging": [
            [
             0,
             "#8e0152"
            ],
            [
             0.1,
             "#c51b7d"
            ],
            [
             0.2,
             "#de77ae"
            ],
            [
             0.3,
             "#f1b6da"
            ],
            [
             0.4,
             "#fde0ef"
            ],
            [
             0.5,
             "#f7f7f7"
            ],
            [
             0.6,
             "#e6f5d0"
            ],
            [
             0.7,
             "#b8e186"
            ],
            [
             0.8,
             "#7fbc41"
            ],
            [
             0.9,
             "#4d9221"
            ],
            [
             1,
             "#276419"
            ]
           ],
           "sequential": [
            [
             0,
             "#0d0887"
            ],
            [
             0.1111111111111111,
             "#46039f"
            ],
            [
             0.2222222222222222,
             "#7201a8"
            ],
            [
             0.3333333333333333,
             "#9c179e"
            ],
            [
             0.4444444444444444,
             "#bd3786"
            ],
            [
             0.5555555555555556,
             "#d8576b"
            ],
            [
             0.6666666666666666,
             "#ed7953"
            ],
            [
             0.7777777777777778,
             "#fb9f3a"
            ],
            [
             0.8888888888888888,
             "#fdca26"
            ],
            [
             1,
             "#f0f921"
            ]
           ],
           "sequentialminus": [
            [
             0,
             "#0d0887"
            ],
            [
             0.1111111111111111,
             "#46039f"
            ],
            [
             0.2222222222222222,
             "#7201a8"
            ],
            [
             0.3333333333333333,
             "#9c179e"
            ],
            [
             0.4444444444444444,
             "#bd3786"
            ],
            [
             0.5555555555555556,
             "#d8576b"
            ],
            [
             0.6666666666666666,
             "#ed7953"
            ],
            [
             0.7777777777777778,
             "#fb9f3a"
            ],
            [
             0.8888888888888888,
             "#fdca26"
            ],
            [
             1,
             "#f0f921"
            ]
           ]
          },
          "colorway": [
           "#636efa",
           "#EF553B",
           "#00cc96",
           "#ab63fa",
           "#FFA15A",
           "#19d3f3",
           "#FF6692",
           "#B6E880",
           "#FF97FF",
           "#FECB52"
          ],
          "font": {
           "color": "#2a3f5f"
          },
          "geo": {
           "bgcolor": "white",
           "lakecolor": "white",
           "landcolor": "#E5ECF6",
           "showlakes": true,
           "showland": true,
           "subunitcolor": "white"
          },
          "hoverlabel": {
           "align": "left"
          },
          "hovermode": "closest",
          "mapbox": {
           "style": "light"
          },
          "paper_bgcolor": "white",
          "plot_bgcolor": "#E5ECF6",
          "polar": {
           "angularaxis": {
            "gridcolor": "white",
            "linecolor": "white",
            "ticks": ""
           },
           "bgcolor": "#E5ECF6",
           "radialaxis": {
            "gridcolor": "white",
            "linecolor": "white",
            "ticks": ""
           }
          },
          "scene": {
           "xaxis": {
            "backgroundcolor": "#E5ECF6",
            "gridcolor": "white",
            "gridwidth": 2,
            "linecolor": "white",
            "showbackground": true,
            "ticks": "",
            "zerolinecolor": "white"
           },
           "yaxis": {
            "backgroundcolor": "#E5ECF6",
            "gridcolor": "white",
            "gridwidth": 2,
            "linecolor": "white",
            "showbackground": true,
            "ticks": "",
            "zerolinecolor": "white"
           },
           "zaxis": {
            "backgroundcolor": "#E5ECF6",
            "gridcolor": "white",
            "gridwidth": 2,
            "linecolor": "white",
            "showbackground": true,
            "ticks": "",
            "zerolinecolor": "white"
           }
          },
          "shapedefaults": {
           "line": {
            "color": "#2a3f5f"
           }
          },
          "ternary": {
           "aaxis": {
            "gridcolor": "white",
            "linecolor": "white",
            "ticks": ""
           },
           "baxis": {
            "gridcolor": "white",
            "linecolor": "white",
            "ticks": ""
           },
           "bgcolor": "#E5ECF6",
           "caxis": {
            "gridcolor": "white",
            "linecolor": "white",
            "ticks": ""
           }
          },
          "title": {
           "x": 0.05
          },
          "xaxis": {
           "automargin": true,
           "gridcolor": "white",
           "linecolor": "white",
           "ticks": "",
           "title": {
            "standoff": 15
           },
           "zerolinecolor": "white",
           "zerolinewidth": 2
          },
          "yaxis": {
           "automargin": true,
           "gridcolor": "white",
           "linecolor": "white",
           "ticks": "",
           "title": {
            "standoff": 15
           },
           "zerolinecolor": "white",
           "zerolinewidth": 2
          }
         }
        },
        "title": {
         "font": {
          "size": 20
         },
         "text": "Cumulative Electric Vehicle sales in the United States",
         "x": 0.5,
         "xanchor": "center",
         "y": 0.95
        },
        "updatemenus": [
         {
          "buttons": [
           {
            "args": [
             null,
             {
              "frame": {
               "duration": 500,
               "redraw": true
              },
              "fromcurrent": true,
              "mode": "immediate",
              "transition": {
               "duration": 500,
               "easing": "linear"
              }
             }
            ],
            "label": "&#9654;",
            "method": "animate"
           },
           {
            "args": [
             [
              null
             ],
             {
              "frame": {
               "duration": 0,
               "redraw": true
              },
              "fromcurrent": true,
              "mode": "immediate",
              "transition": {
               "duration": 0,
               "easing": "linear"
              }
             }
            ],
            "label": "&#9724;",
            "method": "animate"
           }
          ],
          "direction": "left",
          "pad": {
           "r": 10,
           "t": 70
          },
          "showactive": false,
          "type": "buttons",
          "x": 0.1,
          "xanchor": "right",
          "y": 0,
          "yanchor": "top"
         }
        ],
        "width": 700
       }
      },
      "text/html": [
       "<div>                            <div id=\"7bc7d296-0a96-4859-87d1-9236aed41480\" class=\"plotly-graph-div\" style=\"height:500px; width:700px;\"></div>            <script type=\"text/javascript\">                require([\"plotly\"], function(Plotly) {                    window.PLOTLYENV=window.PLOTLYENV || {};                                    if (document.getElementById(\"7bc7d296-0a96-4859-87d1-9236aed41480\")) {                    Plotly.newPlot(                        \"7bc7d296-0a96-4859-87d1-9236aed41480\",                        [{\"coloraxis\":\"coloraxis\",\"geo\":\"geo\",\"hovertemplate\":\"Date=2000<br>State=%{location}<br>Count=%{z}<extra></extra>\",\"locationmode\":\"USA-states\",\"locations\":[\"CA\",\"CO\",\"CT\",\"FL\",\"MT\",\"MI\",\"MN\",\"NJ\",\"NY\",\"OR\",\"TN\",\"TX\",\"VT\",\"VA\",\"WA\",\"WI\"],\"name\":\"\",\"z\":[0,0,0,0,0,0,0,0,0,0,0,0,0,0,0,0],\"type\":\"choropleth\"}],                        {\"template\":{\"data\":{\"histogram2dcontour\":[{\"type\":\"histogram2dcontour\",\"colorbar\":{\"outlinewidth\":0,\"ticks\":\"\"},\"colorscale\":[[0.0,\"#0d0887\"],[0.1111111111111111,\"#46039f\"],[0.2222222222222222,\"#7201a8\"],[0.3333333333333333,\"#9c179e\"],[0.4444444444444444,\"#bd3786\"],[0.5555555555555556,\"#d8576b\"],[0.6666666666666666,\"#ed7953\"],[0.7777777777777778,\"#fb9f3a\"],[0.8888888888888888,\"#fdca26\"],[1.0,\"#f0f921\"]]}],\"choropleth\":[{\"type\":\"choropleth\",\"colorbar\":{\"outlinewidth\":0,\"ticks\":\"\"}}],\"histogram2d\":[{\"type\":\"histogram2d\",\"colorbar\":{\"outlinewidth\":0,\"ticks\":\"\"},\"colorscale\":[[0.0,\"#0d0887\"],[0.1111111111111111,\"#46039f\"],[0.2222222222222222,\"#7201a8\"],[0.3333333333333333,\"#9c179e\"],[0.4444444444444444,\"#bd3786\"],[0.5555555555555556,\"#d8576b\"],[0.6666666666666666,\"#ed7953\"],[0.7777777777777778,\"#fb9f3a\"],[0.8888888888888888,\"#fdca26\"],[1.0,\"#f0f921\"]]}],\"heatmap\":[{\"type\":\"heatmap\",\"colorbar\":{\"outlinewidth\":0,\"ticks\":\"\"},\"colorscale\":[[0.0,\"#0d0887\"],[0.1111111111111111,\"#46039f\"],[0.2222222222222222,\"#7201a8\"],[0.3333333333333333,\"#9c179e\"],[0.4444444444444444,\"#bd3786\"],[0.5555555555555556,\"#d8576b\"],[0.6666666666666666,\"#ed7953\"],[0.7777777777777778,\"#fb9f3a\"],[0.8888888888888888,\"#fdca26\"],[1.0,\"#f0f921\"]]}],\"heatmapgl\":[{\"type\":\"heatmapgl\",\"colorbar\":{\"outlinewidth\":0,\"ticks\":\"\"},\"colorscale\":[[0.0,\"#0d0887\"],[0.1111111111111111,\"#46039f\"],[0.2222222222222222,\"#7201a8\"],[0.3333333333333333,\"#9c179e\"],[0.4444444444444444,\"#bd3786\"],[0.5555555555555556,\"#d8576b\"],[0.6666666666666666,\"#ed7953\"],[0.7777777777777778,\"#fb9f3a\"],[0.8888888888888888,\"#fdca26\"],[1.0,\"#f0f921\"]]}],\"contourcarpet\":[{\"type\":\"contourcarpet\",\"colorbar\":{\"outlinewidth\":0,\"ticks\":\"\"}}],\"contour\":[{\"type\":\"contour\",\"colorbar\":{\"outlinewidth\":0,\"ticks\":\"\"},\"colorscale\":[[0.0,\"#0d0887\"],[0.1111111111111111,\"#46039f\"],[0.2222222222222222,\"#7201a8\"],[0.3333333333333333,\"#9c179e\"],[0.4444444444444444,\"#bd3786\"],[0.5555555555555556,\"#d8576b\"],[0.6666666666666666,\"#ed7953\"],[0.7777777777777778,\"#fb9f3a\"],[0.8888888888888888,\"#fdca26\"],[1.0,\"#f0f921\"]]}],\"surface\":[{\"type\":\"surface\",\"colorbar\":{\"outlinewidth\":0,\"ticks\":\"\"},\"colorscale\":[[0.0,\"#0d0887\"],[0.1111111111111111,\"#46039f\"],[0.2222222222222222,\"#7201a8\"],[0.3333333333333333,\"#9c179e\"],[0.4444444444444444,\"#bd3786\"],[0.5555555555555556,\"#d8576b\"],[0.6666666666666666,\"#ed7953\"],[0.7777777777777778,\"#fb9f3a\"],[0.8888888888888888,\"#fdca26\"],[1.0,\"#f0f921\"]]}],\"mesh3d\":[{\"type\":\"mesh3d\",\"colorbar\":{\"outlinewidth\":0,\"ticks\":\"\"}}],\"scatter\":[{\"fillpattern\":{\"fillmode\":\"overlay\",\"size\":10,\"solidity\":0.2},\"type\":\"scatter\"}],\"parcoords\":[{\"type\":\"parcoords\",\"line\":{\"colorbar\":{\"outlinewidth\":0,\"ticks\":\"\"}}}],\"scatterpolargl\":[{\"type\":\"scatterpolargl\",\"marker\":{\"colorbar\":{\"outlinewidth\":0,\"ticks\":\"\"}}}],\"bar\":[{\"error_x\":{\"color\":\"#2a3f5f\"},\"error_y\":{\"color\":\"#2a3f5f\"},\"marker\":{\"line\":{\"color\":\"#E5ECF6\",\"width\":0.5},\"pattern\":{\"fillmode\":\"overlay\",\"size\":10,\"solidity\":0.2}},\"type\":\"bar\"}],\"scattergeo\":[{\"type\":\"scattergeo\",\"marker\":{\"colorbar\":{\"outlinewidth\":0,\"ticks\":\"\"}}}],\"scatterpolar\":[{\"type\":\"scatterpolar\",\"marker\":{\"colorbar\":{\"outlinewidth\":0,\"ticks\":\"\"}}}],\"histogram\":[{\"marker\":{\"pattern\":{\"fillmode\":\"overlay\",\"size\":10,\"solidity\":0.2}},\"type\":\"histogram\"}],\"scattergl\":[{\"type\":\"scattergl\",\"marker\":{\"colorbar\":{\"outlinewidth\":0,\"ticks\":\"\"}}}],\"scatter3d\":[{\"type\":\"scatter3d\",\"line\":{\"colorbar\":{\"outlinewidth\":0,\"ticks\":\"\"}},\"marker\":{\"colorbar\":{\"outlinewidth\":0,\"ticks\":\"\"}}}],\"scattermapbox\":[{\"type\":\"scattermapbox\",\"marker\":{\"colorbar\":{\"outlinewidth\":0,\"ticks\":\"\"}}}],\"scatterternary\":[{\"type\":\"scatterternary\",\"marker\":{\"colorbar\":{\"outlinewidth\":0,\"ticks\":\"\"}}}],\"scattercarpet\":[{\"type\":\"scattercarpet\",\"marker\":{\"colorbar\":{\"outlinewidth\":0,\"ticks\":\"\"}}}],\"carpet\":[{\"aaxis\":{\"endlinecolor\":\"#2a3f5f\",\"gridcolor\":\"white\",\"linecolor\":\"white\",\"minorgridcolor\":\"white\",\"startlinecolor\":\"#2a3f5f\"},\"baxis\":{\"endlinecolor\":\"#2a3f5f\",\"gridcolor\":\"white\",\"linecolor\":\"white\",\"minorgridcolor\":\"white\",\"startlinecolor\":\"#2a3f5f\"},\"type\":\"carpet\"}],\"table\":[{\"cells\":{\"fill\":{\"color\":\"#EBF0F8\"},\"line\":{\"color\":\"white\"}},\"header\":{\"fill\":{\"color\":\"#C8D4E3\"},\"line\":{\"color\":\"white\"}},\"type\":\"table\"}],\"barpolar\":[{\"marker\":{\"line\":{\"color\":\"#E5ECF6\",\"width\":0.5},\"pattern\":{\"fillmode\":\"overlay\",\"size\":10,\"solidity\":0.2}},\"type\":\"barpolar\"}],\"pie\":[{\"automargin\":true,\"type\":\"pie\"}]},\"layout\":{\"autotypenumbers\":\"strict\",\"colorway\":[\"#636efa\",\"#EF553B\",\"#00cc96\",\"#ab63fa\",\"#FFA15A\",\"#19d3f3\",\"#FF6692\",\"#B6E880\",\"#FF97FF\",\"#FECB52\"],\"font\":{\"color\":\"#2a3f5f\"},\"hovermode\":\"closest\",\"hoverlabel\":{\"align\":\"left\"},\"paper_bgcolor\":\"white\",\"plot_bgcolor\":\"#E5ECF6\",\"polar\":{\"bgcolor\":\"#E5ECF6\",\"angularaxis\":{\"gridcolor\":\"white\",\"linecolor\":\"white\",\"ticks\":\"\"},\"radialaxis\":{\"gridcolor\":\"white\",\"linecolor\":\"white\",\"ticks\":\"\"}},\"ternary\":{\"bgcolor\":\"#E5ECF6\",\"aaxis\":{\"gridcolor\":\"white\",\"linecolor\":\"white\",\"ticks\":\"\"},\"baxis\":{\"gridcolor\":\"white\",\"linecolor\":\"white\",\"ticks\":\"\"},\"caxis\":{\"gridcolor\":\"white\",\"linecolor\":\"white\",\"ticks\":\"\"}},\"coloraxis\":{\"colorbar\":{\"outlinewidth\":0,\"ticks\":\"\"}},\"colorscale\":{\"sequential\":[[0.0,\"#0d0887\"],[0.1111111111111111,\"#46039f\"],[0.2222222222222222,\"#7201a8\"],[0.3333333333333333,\"#9c179e\"],[0.4444444444444444,\"#bd3786\"],[0.5555555555555556,\"#d8576b\"],[0.6666666666666666,\"#ed7953\"],[0.7777777777777778,\"#fb9f3a\"],[0.8888888888888888,\"#fdca26\"],[1.0,\"#f0f921\"]],\"sequentialminus\":[[0.0,\"#0d0887\"],[0.1111111111111111,\"#46039f\"],[0.2222222222222222,\"#7201a8\"],[0.3333333333333333,\"#9c179e\"],[0.4444444444444444,\"#bd3786\"],[0.5555555555555556,\"#d8576b\"],[0.6666666666666666,\"#ed7953\"],[0.7777777777777778,\"#fb9f3a\"],[0.8888888888888888,\"#fdca26\"],[1.0,\"#f0f921\"]],\"diverging\":[[0,\"#8e0152\"],[0.1,\"#c51b7d\"],[0.2,\"#de77ae\"],[0.3,\"#f1b6da\"],[0.4,\"#fde0ef\"],[0.5,\"#f7f7f7\"],[0.6,\"#e6f5d0\"],[0.7,\"#b8e186\"],[0.8,\"#7fbc41\"],[0.9,\"#4d9221\"],[1,\"#276419\"]]},\"xaxis\":{\"gridcolor\":\"white\",\"linecolor\":\"white\",\"ticks\":\"\",\"title\":{\"standoff\":15},\"zerolinecolor\":\"white\",\"automargin\":true,\"zerolinewidth\":2},\"yaxis\":{\"gridcolor\":\"white\",\"linecolor\":\"white\",\"ticks\":\"\",\"title\":{\"standoff\":15},\"zerolinecolor\":\"white\",\"automargin\":true,\"zerolinewidth\":2},\"scene\":{\"xaxis\":{\"backgroundcolor\":\"#E5ECF6\",\"gridcolor\":\"white\",\"linecolor\":\"white\",\"showbackground\":true,\"ticks\":\"\",\"zerolinecolor\":\"white\",\"gridwidth\":2},\"yaxis\":{\"backgroundcolor\":\"#E5ECF6\",\"gridcolor\":\"white\",\"linecolor\":\"white\",\"showbackground\":true,\"ticks\":\"\",\"zerolinecolor\":\"white\",\"gridwidth\":2},\"zaxis\":{\"backgroundcolor\":\"#E5ECF6\",\"gridcolor\":\"white\",\"linecolor\":\"white\",\"showbackground\":true,\"ticks\":\"\",\"zerolinecolor\":\"white\",\"gridwidth\":2}},\"shapedefaults\":{\"line\":{\"color\":\"#2a3f5f\"}},\"annotationdefaults\":{\"arrowcolor\":\"#2a3f5f\",\"arrowhead\":0,\"arrowwidth\":1},\"geo\":{\"bgcolor\":\"white\",\"landcolor\":\"#E5ECF6\",\"subunitcolor\":\"white\",\"showland\":true,\"showlakes\":true,\"lakecolor\":\"white\"},\"title\":{\"x\":0.05},\"mapbox\":{\"style\":\"light\"}}},\"geo\":{\"domain\":{\"x\":[0.0,1.0],\"y\":[0.0,1.0]},\"center\":{},\"scope\":\"usa\"},\"coloraxis\":{\"colorbar\":{\"title\":{\"text\":\"Count\"}},\"colorscale\":[[0.0,\"#fde725\"],[0.1111111111111111,\"#b5de2b\"],[0.2222222222222222,\"#6ece58\"],[0.3333333333333333,\"#35b779\"],[0.4444444444444444,\"#1f9e89\"],[0.5555555555555556,\"#26828e\"],[0.6666666666666666,\"#31688e\"],[0.7777777777777778,\"#3e4989\"],[0.8888888888888888,\"#482878\"],[1.0,\"#440154\"]]},\"legend\":{\"tracegroupgap\":0},\"margin\":{\"t\":100,\"b\":0,\"r\":100,\"l\":0},\"updatemenus\":[{\"buttons\":[{\"args\":[null,{\"frame\":{\"duration\":500,\"redraw\":true},\"mode\":\"immediate\",\"fromcurrent\":true,\"transition\":{\"duration\":500,\"easing\":\"linear\"}}],\"label\":\"&#9654;\",\"method\":\"animate\"},{\"args\":[[null],{\"frame\":{\"duration\":0,\"redraw\":true},\"mode\":\"immediate\",\"fromcurrent\":true,\"transition\":{\"duration\":0,\"easing\":\"linear\"}}],\"label\":\"&#9724;\",\"method\":\"animate\"}],\"direction\":\"left\",\"pad\":{\"r\":10,\"t\":70},\"showactive\":false,\"type\":\"buttons\",\"x\":0.1,\"xanchor\":\"right\",\"y\":0,\"yanchor\":\"top\"}],\"sliders\":[{\"active\":0,\"currentvalue\":{\"prefix\":\"Year=\"},\"len\":0.9,\"pad\":{\"b\":10,\"t\":60},\"steps\":[{\"args\":[[\"2000\"],{\"frame\":{\"duration\":0,\"redraw\":true},\"mode\":\"immediate\",\"fromcurrent\":true,\"transition\":{\"duration\":0,\"easing\":\"linear\"}}],\"label\":\"2000\",\"method\":\"animate\"},{\"args\":[[\"2001\"],{\"frame\":{\"duration\":0,\"redraw\":true},\"mode\":\"immediate\",\"fromcurrent\":true,\"transition\":{\"duration\":0,\"easing\":\"linear\"}}],\"label\":\"2001\",\"method\":\"animate\"},{\"args\":[[\"2002\"],{\"frame\":{\"duration\":0,\"redraw\":true},\"mode\":\"immediate\",\"fromcurrent\":true,\"transition\":{\"duration\":0,\"easing\":\"linear\"}}],\"label\":\"2002\",\"method\":\"animate\"},{\"args\":[[\"2003\"],{\"frame\":{\"duration\":0,\"redraw\":true},\"mode\":\"immediate\",\"fromcurrent\":true,\"transition\":{\"duration\":0,\"easing\":\"linear\"}}],\"label\":\"2003\",\"method\":\"animate\"},{\"args\":[[\"2004\"],{\"frame\":{\"duration\":0,\"redraw\":true},\"mode\":\"immediate\",\"fromcurrent\":true,\"transition\":{\"duration\":0,\"easing\":\"linear\"}}],\"label\":\"2004\",\"method\":\"animate\"},{\"args\":[[\"2005\"],{\"frame\":{\"duration\":0,\"redraw\":true},\"mode\":\"immediate\",\"fromcurrent\":true,\"transition\":{\"duration\":0,\"easing\":\"linear\"}}],\"label\":\"2005\",\"method\":\"animate\"},{\"args\":[[\"2006\"],{\"frame\":{\"duration\":0,\"redraw\":true},\"mode\":\"immediate\",\"fromcurrent\":true,\"transition\":{\"duration\":0,\"easing\":\"linear\"}}],\"label\":\"2006\",\"method\":\"animate\"},{\"args\":[[\"2007\"],{\"frame\":{\"duration\":0,\"redraw\":true},\"mode\":\"immediate\",\"fromcurrent\":true,\"transition\":{\"duration\":0,\"easing\":\"linear\"}}],\"label\":\"2007\",\"method\":\"animate\"},{\"args\":[[\"2008\"],{\"frame\":{\"duration\":0,\"redraw\":true},\"mode\":\"immediate\",\"fromcurrent\":true,\"transition\":{\"duration\":0,\"easing\":\"linear\"}}],\"label\":\"2008\",\"method\":\"animate\"},{\"args\":[[\"2009\"],{\"frame\":{\"duration\":0,\"redraw\":true},\"mode\":\"immediate\",\"fromcurrent\":true,\"transition\":{\"duration\":0,\"easing\":\"linear\"}}],\"label\":\"2009\",\"method\":\"animate\"},{\"args\":[[\"2010\"],{\"frame\":{\"duration\":0,\"redraw\":true},\"mode\":\"immediate\",\"fromcurrent\":true,\"transition\":{\"duration\":0,\"easing\":\"linear\"}}],\"label\":\"2010\",\"method\":\"animate\"},{\"args\":[[\"2011\"],{\"frame\":{\"duration\":0,\"redraw\":true},\"mode\":\"immediate\",\"fromcurrent\":true,\"transition\":{\"duration\":0,\"easing\":\"linear\"}}],\"label\":\"2011\",\"method\":\"animate\"},{\"args\":[[\"2012\"],{\"frame\":{\"duration\":0,\"redraw\":true},\"mode\":\"immediate\",\"fromcurrent\":true,\"transition\":{\"duration\":0,\"easing\":\"linear\"}}],\"label\":\"2012\",\"method\":\"animate\"},{\"args\":[[\"2013\"],{\"frame\":{\"duration\":0,\"redraw\":true},\"mode\":\"immediate\",\"fromcurrent\":true,\"transition\":{\"duration\":0,\"easing\":\"linear\"}}],\"label\":\"2013\",\"method\":\"animate\"},{\"args\":[[\"2014\"],{\"frame\":{\"duration\":0,\"redraw\":true},\"mode\":\"immediate\",\"fromcurrent\":true,\"transition\":{\"duration\":0,\"easing\":\"linear\"}}],\"label\":\"2014\",\"method\":\"animate\"},{\"args\":[[\"2015\"],{\"frame\":{\"duration\":0,\"redraw\":true},\"mode\":\"immediate\",\"fromcurrent\":true,\"transition\":{\"duration\":0,\"easing\":\"linear\"}}],\"label\":\"2015\",\"method\":\"animate\"},{\"args\":[[\"2016\"],{\"frame\":{\"duration\":0,\"redraw\":true},\"mode\":\"immediate\",\"fromcurrent\":true,\"transition\":{\"duration\":0,\"easing\":\"linear\"}}],\"label\":\"2016\",\"method\":\"animate\"},{\"args\":[[\"2017\"],{\"frame\":{\"duration\":0,\"redraw\":true},\"mode\":\"immediate\",\"fromcurrent\":true,\"transition\":{\"duration\":0,\"easing\":\"linear\"}}],\"label\":\"2017\",\"method\":\"animate\"},{\"args\":[[\"2018\"],{\"frame\":{\"duration\":0,\"redraw\":true},\"mode\":\"immediate\",\"fromcurrent\":true,\"transition\":{\"duration\":0,\"easing\":\"linear\"}}],\"label\":\"2018\",\"method\":\"animate\"},{\"args\":[[\"2019\"],{\"frame\":{\"duration\":0,\"redraw\":true},\"mode\":\"immediate\",\"fromcurrent\":true,\"transition\":{\"duration\":0,\"easing\":\"linear\"}}],\"label\":\"2019\",\"method\":\"animate\"},{\"args\":[[\"2020\"],{\"frame\":{\"duration\":0,\"redraw\":true},\"mode\":\"immediate\",\"fromcurrent\":true,\"transition\":{\"duration\":0,\"easing\":\"linear\"}}],\"label\":\"2020\",\"method\":\"animate\"},{\"args\":[[\"2021\"],{\"frame\":{\"duration\":0,\"redraw\":true},\"mode\":\"immediate\",\"fromcurrent\":true,\"transition\":{\"duration\":0,\"easing\":\"linear\"}}],\"label\":\"2021\",\"method\":\"animate\"},{\"args\":[[\"2022\"],{\"frame\":{\"duration\":0,\"redraw\":true},\"mode\":\"immediate\",\"fromcurrent\":true,\"transition\":{\"duration\":0,\"easing\":\"linear\"}}],\"label\":\"2022\",\"method\":\"animate\"}],\"x\":0.1,\"xanchor\":\"left\",\"y\":0,\"yanchor\":\"top\"}],\"title\":{\"font\":{\"size\":20},\"text\":\"Cumulative Electric Vehicle sales in the United States\",\"xanchor\":\"center\",\"x\":0.5,\"y\":0.95},\"width\":700,\"height\":500},                        {\"responsive\": true}                    ).then(function(){\n",
       "                            Plotly.addFrames('7bc7d296-0a96-4859-87d1-9236aed41480', [{\"data\":[{\"coloraxis\":\"coloraxis\",\"geo\":\"geo\",\"hovertemplate\":\"Date=2000<br>State=%{location}<br>Count=%{z}<extra></extra>\",\"locationmode\":\"USA-states\",\"locations\":[\"CA\",\"CO\",\"CT\",\"FL\",\"MT\",\"MI\",\"MN\",\"NJ\",\"NY\",\"OR\",\"TN\",\"TX\",\"VT\",\"VA\",\"WA\",\"WI\"],\"name\":\"\",\"z\":[0,0,0,0,0,0,0,0,0,0,0,0,0,0,0,0],\"type\":\"choropleth\"}],\"name\":\"2000\"},{\"data\":[{\"coloraxis\":\"coloraxis\",\"geo\":\"geo\",\"hovertemplate\":\"Date=2001<br>State=%{location}<br>Count=%{z}<extra></extra>\",\"locationmode\":\"USA-states\",\"locations\":[\"CA\",\"CO\",\"CT\",\"FL\",\"MT\",\"MI\",\"MN\",\"NJ\",\"NY\",\"OR\",\"TN\",\"TX\",\"VT\",\"VA\",\"WA\",\"WI\"],\"name\":\"\",\"z\":[0,0,0,0,0,0,0,0,0,0,0,0,0,0,0,0],\"type\":\"choropleth\"}],\"name\":\"2001\"},{\"data\":[{\"coloraxis\":\"coloraxis\",\"geo\":\"geo\",\"hovertemplate\":\"Date=2002<br>State=%{location}<br>Count=%{z}<extra></extra>\",\"locationmode\":\"USA-states\",\"locations\":[\"CA\",\"CO\",\"CT\",\"FL\",\"MT\",\"MI\",\"MN\",\"NJ\",\"NY\",\"OR\",\"TN\",\"TX\",\"VT\",\"VA\",\"WA\",\"WI\"],\"name\":\"\",\"z\":[0,0,0,0,0,0,0,0,0,0,0,0,0,8,0,0],\"type\":\"choropleth\"}],\"name\":\"2002\"},{\"data\":[{\"coloraxis\":\"coloraxis\",\"geo\":\"geo\",\"hovertemplate\":\"Date=2003<br>State=%{location}<br>Count=%{z}<extra></extra>\",\"locationmode\":\"USA-states\",\"locations\":[\"CA\",\"CO\",\"CT\",\"FL\",\"MT\",\"MI\",\"MN\",\"NJ\",\"NY\",\"OR\",\"TN\",\"TX\",\"VT\",\"VA\",\"WA\",\"WI\"],\"name\":\"\",\"z\":[0,0,0,0,1,0,0,0,0,0,0,0,44,13,0,0],\"type\":\"choropleth\"}],\"name\":\"2003\"},{\"data\":[{\"coloraxis\":\"coloraxis\",\"geo\":\"geo\",\"hovertemplate\":\"Date=2004<br>State=%{location}<br>Count=%{z}<extra></extra>\",\"locationmode\":\"USA-states\",\"locations\":[\"CA\",\"CO\",\"CT\",\"FL\",\"MT\",\"MI\",\"MN\",\"NJ\",\"NY\",\"OR\",\"TN\",\"TX\",\"VT\",\"VA\",\"WA\",\"WI\"],\"name\":\"\",\"z\":[0,0,0,0,13,0,0,0,0,0,0,0,44,18,0,0],\"type\":\"choropleth\"}],\"name\":\"2004\"},{\"data\":[{\"coloraxis\":\"coloraxis\",\"geo\":\"geo\",\"hovertemplate\":\"Date=2005<br>State=%{location}<br>Count=%{z}<extra></extra>\",\"locationmode\":\"USA-states\",\"locations\":[\"CA\",\"CO\",\"CT\",\"FL\",\"MT\",\"MI\",\"MN\",\"NJ\",\"NY\",\"OR\",\"TN\",\"TX\",\"VT\",\"VA\",\"WA\",\"WI\"],\"name\":\"\",\"z\":[0,0,0,0,17,0,0,0,0,0,0,0,46,23,0,0],\"type\":\"choropleth\"}],\"name\":\"2005\"},{\"data\":[{\"coloraxis\":\"coloraxis\",\"geo\":\"geo\",\"hovertemplate\":\"Date=2006<br>State=%{location}<br>Count=%{z}<extra></extra>\",\"locationmode\":\"USA-states\",\"locations\":[\"CA\",\"CO\",\"CT\",\"FL\",\"MT\",\"MI\",\"MN\",\"NJ\",\"NY\",\"OR\",\"TN\",\"TX\",\"VT\",\"VA\",\"WA\",\"WI\"],\"name\":\"\",\"z\":[0,0,0,0,18,0,0,0,0,0,0,0,48,58,0,0],\"type\":\"choropleth\"}],\"name\":\"2006\"},{\"data\":[{\"coloraxis\":\"coloraxis\",\"geo\":\"geo\",\"hovertemplate\":\"Date=2007<br>State=%{location}<br>Count=%{z}<extra></extra>\",\"locationmode\":\"USA-states\",\"locations\":[\"CA\",\"CO\",\"CT\",\"FL\",\"MT\",\"MI\",\"MN\",\"NJ\",\"NY\",\"OR\",\"TN\",\"TX\",\"VT\",\"VA\",\"WA\",\"WI\"],\"name\":\"\",\"z\":[0,0,0,0,19,0,0,0,0,0,0,0,54,73,0,0],\"type\":\"choropleth\"}],\"name\":\"2007\"},{\"data\":[{\"coloraxis\":\"coloraxis\",\"geo\":\"geo\",\"hovertemplate\":\"Date=2008<br>State=%{location}<br>Count=%{z}<extra></extra>\",\"locationmode\":\"USA-states\",\"locations\":[\"CA\",\"CO\",\"CT\",\"FL\",\"MT\",\"MI\",\"MN\",\"NJ\",\"NY\",\"OR\",\"TN\",\"TX\",\"VT\",\"VA\",\"WA\",\"WI\"],\"name\":\"\",\"z\":[0,0,0,0,34,0,43,0,0,0,0,0,64,73,0,0],\"type\":\"choropleth\"}],\"name\":\"2008\"},{\"data\":[{\"coloraxis\":\"coloraxis\",\"geo\":\"geo\",\"hovertemplate\":\"Date=2009<br>State=%{location}<br>Count=%{z}<extra></extra>\",\"locationmode\":\"USA-states\",\"locations\":[\"CA\",\"CO\",\"CT\",\"FL\",\"MT\",\"MI\",\"MN\",\"NJ\",\"NY\",\"OR\",\"TN\",\"TX\",\"VT\",\"VA\",\"WA\",\"WI\"],\"name\":\"\",\"z\":[0,0,0,0,48,0,55,0,0,0,0,0,68,102,0,0],\"type\":\"choropleth\"}],\"name\":\"2009\"},{\"data\":[{\"coloraxis\":\"coloraxis\",\"geo\":\"geo\",\"hovertemplate\":\"Date=2010<br>State=%{location}<br>Count=%{z}<extra></extra>\",\"locationmode\":\"USA-states\",\"locations\":[\"CA\",\"CO\",\"CT\",\"FL\",\"MT\",\"MI\",\"MN\",\"NJ\",\"NY\",\"OR\",\"TN\",\"TX\",\"VT\",\"VA\",\"WA\",\"WI\"],\"name\":\"\",\"z\":[754,220,0,0,62,0,55,0,0,0,0,0,70,117,77,0],\"type\":\"choropleth\"}],\"name\":\"2010\"},{\"data\":[{\"coloraxis\":\"coloraxis\",\"geo\":\"geo\",\"hovertemplate\":\"Date=2011<br>State=%{location}<br>Count=%{z}<extra></extra>\",\"locationmode\":\"USA-states\",\"locations\":[\"CA\",\"CO\",\"CT\",\"FL\",\"MT\",\"MI\",\"MN\",\"NJ\",\"NY\",\"OR\",\"TN\",\"TX\",\"VT\",\"VA\",\"WA\",\"WI\"],\"name\":\"\",\"z\":[6611,528,1,0,72,0,75,0,2231,0,0,0,90,158,2531,0],\"type\":\"choropleth\"}],\"name\":\"2011\"},{\"data\":[{\"coloraxis\":\"coloraxis\",\"geo\":\"geo\",\"hovertemplate\":\"Date=2012<br>State=%{location}<br>Count=%{z}<extra></extra>\",\"locationmode\":\"USA-states\",\"locations\":[\"CA\",\"CO\",\"CT\",\"FL\",\"MT\",\"MI\",\"MN\",\"NJ\",\"NY\",\"OR\",\"TN\",\"TX\",\"VT\",\"VA\",\"WA\",\"WI\"],\"name\":\"\",\"z\":[24967,1574,24,0,90,0,123,0,10208,0,0,0,194,195,7450,0],\"type\":\"choropleth\"}],\"name\":\"2012\"},{\"data\":[{\"coloraxis\":\"coloraxis\",\"geo\":\"geo\",\"hovertemplate\":\"Date=2013<br>State=%{location}<br>Count=%{z}<extra></extra>\",\"locationmode\":\"USA-states\",\"locations\":[\"CA\",\"CO\",\"CT\",\"FL\",\"MT\",\"MI\",\"MN\",\"NJ\",\"NY\",\"OR\",\"TN\",\"TX\",\"VT\",\"VA\",\"WA\",\"WI\"],\"name\":\"\",\"z\":[77394,4103,113,0,118,3,242,0,20749,0,0,0,381,251,20264,0],\"type\":\"choropleth\"}],\"name\":\"2013\"},{\"data\":[{\"coloraxis\":\"coloraxis\",\"geo\":\"geo\",\"hovertemplate\":\"Date=2014<br>State=%{location}<br>Count=%{z}<extra></extra>\",\"locationmode\":\"USA-states\",\"locations\":[\"CA\",\"CO\",\"CT\",\"FL\",\"MT\",\"MI\",\"MN\",\"NJ\",\"NY\",\"OR\",\"TN\",\"TX\",\"VT\",\"VA\",\"WA\",\"WI\"],\"name\":\"\",\"z\":[186333,8232,626,0,161,394,381,0,65356,0,0,0,541,293,38033,0],\"type\":\"choropleth\"}],\"name\":\"2014\"},{\"data\":[{\"coloraxis\":\"coloraxis\",\"geo\":\"geo\",\"hovertemplate\":\"Date=2015<br>State=%{location}<br>Count=%{z}<extra></extra>\",\"locationmode\":\"USA-states\",\"locations\":[\"CA\",\"CO\",\"CT\",\"FL\",\"MT\",\"MI\",\"MN\",\"NJ\",\"NY\",\"OR\",\"TN\",\"TX\",\"VT\",\"VA\",\"WA\",\"WI\"],\"name\":\"\",\"z\":[352501,14294,2606,0,213,949,659,0,109361,0,0,0,942,588,61239,0],\"type\":\"choropleth\"}],\"name\":\"2015\"},{\"data\":[{\"coloraxis\":\"coloraxis\",\"geo\":\"geo\",\"hovertemplate\":\"Date=2016<br>State=%{location}<br>Count=%{z}<extra></extra>\",\"locationmode\":\"USA-states\",\"locations\":[\"CA\",\"CO\",\"CT\",\"FL\",\"MT\",\"MI\",\"MN\",\"NJ\",\"NY\",\"OR\",\"TN\",\"TX\",\"VT\",\"VA\",\"WA\",\"WI\"],\"name\":\"\",\"z\":[582672,23258,5220,0,272,1700,2372,0,210072,0,0,0,2046,3194,91935,0],\"type\":\"choropleth\"}],\"name\":\"2016\"},{\"data\":[{\"coloraxis\":\"coloraxis\",\"geo\":\"geo\",\"hovertemplate\":\"Date=2017<br>State=%{location}<br>Count=%{z}<extra></extra>\",\"locationmode\":\"USA-states\",\"locations\":[\"CA\",\"CO\",\"CT\",\"FL\",\"MT\",\"MI\",\"MN\",\"NJ\",\"NY\",\"OR\",\"TN\",\"TX\",\"VT\",\"VA\",\"WA\",\"WI\"],\"name\":\"\",\"z\":[905434,36438,5220,0,404,9692,5966,23969,475178,0,0,0,4106,15605,131807,0],\"type\":\"choropleth\"}],\"name\":\"2017\"},{\"data\":[{\"coloraxis\":\"coloraxis\",\"geo\":\"geo\",\"hovertemplate\":\"Date=2018<br>State=%{location}<br>Count=%{z}<extra></extra>\",\"locationmode\":\"USA-states\",\"locations\":[\"CA\",\"CO\",\"CT\",\"FL\",\"MT\",\"MI\",\"MN\",\"NJ\",\"NY\",\"OR\",\"TN\",\"TX\",\"VT\",\"VA\",\"WA\",\"WI\"],\"name\":\"\",\"z\":[1354001,54461,11439,67209,1270,16741,23137,64388,987517,0,0,0,6080,35124,191083,6366],\"type\":\"choropleth\"}],\"name\":\"2018\"},{\"data\":[{\"coloraxis\":\"coloraxis\",\"geo\":\"geo\",\"hovertemplate\":\"Date=2019<br>State=%{location}<br>Count=%{z}<extra></extra>\",\"locationmode\":\"USA-states\",\"locations\":[\"CA\",\"CO\",\"CT\",\"FL\",\"MT\",\"MI\",\"MN\",\"NJ\",\"NY\",\"OR\",\"TN\",\"TX\",\"VT\",\"VA\",\"WA\",\"WI\"],\"name\":\"\",\"z\":[1913970,250959,11439,124189,1641,42209,32243,121294,1611480,25801,32701,0,6196,64060,541933,10577],\"type\":\"choropleth\"}],\"name\":\"2019\"},{\"data\":[{\"coloraxis\":\"coloraxis\",\"geo\":\"geo\",\"hovertemplate\":\"Date=2020<br>State=%{location}<br>Count=%{z}<extra></extra>\",\"locationmode\":\"USA-states\",\"locations\":[\"CA\",\"CO\",\"CT\",\"FL\",\"MT\",\"MI\",\"MN\",\"NJ\",\"NY\",\"OR\",\"TN\",\"TX\",\"VT\",\"VA\",\"WA\",\"WI\"],\"name\":\"\",\"z\":[2542443,638228,11439,260753,3090,43628,44455,196900,2327870,40247,70430,156328,6196,94176,1225252,15743],\"type\":\"choropleth\"}],\"name\":\"2020\"},{\"data\":[{\"coloraxis\":\"coloraxis\",\"geo\":\"geo\",\"hovertemplate\":\"Date=2021<br>State=%{location}<br>Count=%{z}<extra></extra>\",\"locationmode\":\"USA-states\",\"locations\":[\"CA\",\"CO\",\"CT\",\"FL\",\"MT\",\"MI\",\"MN\",\"NJ\",\"NY\",\"OR\",\"TN\",\"TX\",\"VT\",\"VA\",\"WA\",\"WI\"],\"name\":\"\",\"z\":[2542443,1034147,11439,353974,5552,43628,113033,309872,2961294,40247,128451,971263,6196,126954,2106411,21531],\"type\":\"choropleth\"}],\"name\":\"2021\"},{\"data\":[{\"coloraxis\":\"coloraxis\",\"geo\":\"geo\",\"hovertemplate\":\"Date=2022<br>State=%{location}<br>Count=%{z}<extra></extra>\",\"locationmode\":\"USA-states\",\"locations\":[\"CA\",\"CO\",\"CT\",\"FL\",\"MT\",\"MI\",\"MN\",\"NJ\",\"NY\",\"OR\",\"TN\",\"TX\",\"VT\",\"VA\",\"WA\",\"WI\"],\"name\":\"\",\"z\":[2542443,1075022,11439,353974,5730,43628,124145,309872,3012592,40247,167301,1033202,6196,126989,2456028,29120],\"type\":\"choropleth\"}],\"name\":\"2022\"}]);\n",
       "                        }).then(function(){\n",
       "                            \n",
       "var gd = document.getElementById('7bc7d296-0a96-4859-87d1-9236aed41480');\n",
       "var x = new MutationObserver(function (mutations, observer) {{\n",
       "        var display = window.getComputedStyle(gd).display;\n",
       "        if (!display || display === 'none') {{\n",
       "            console.log([gd, 'removed!']);\n",
       "            Plotly.purge(gd);\n",
       "            observer.disconnect();\n",
       "        }}\n",
       "}});\n",
       "\n",
       "// Listen for the removal of the full notebook cells\n",
       "var notebookContainer = gd.closest('#notebook-container');\n",
       "if (notebookContainer) {{\n",
       "    x.observe(notebookContainer, {childList: true});\n",
       "}}\n",
       "\n",
       "// Listen for the clearing of the current output cell\n",
       "var outputEl = gd.closest('.output');\n",
       "if (outputEl) {{\n",
       "    x.observe(outputEl, {childList: true});\n",
       "}}\n",
       "\n",
       "                        })                };                });            </script>        </div>"
      ]
     },
     "metadata": {},
     "output_type": "display_data"
    }
   ],
   "source": [
    "dtotal=pd.read_json('dtotal.json', orient='records')\n",
    "fig = px.choropleth(dtotal,\n",
    "                    locations='State', \n",
    "                    locationmode=\"USA-states\", \n",
    "                    scope=\"usa\",\n",
    "                    color='Count',\n",
    "                    color_continuous_scale=\"Viridis_r\",\n",
    "                    animation_frame = 'Date' \n",
    "                    )\n",
    "fig.update_layout(\n",
    "            title_text=\"Cumulative Electric Vehicle sales in the United States\",\n",
    "            title_xanchor=\"center\",\n",
    "            title_font=dict(size=20),\n",
    "            title_x=0.5,\n",
    "            title_y=0.95,\n",
    "            geo=dict(scope='usa'),\n",
    "            width=700,\n",
    "            height=500,\n",
    "            margin=dict(t=100, b=0,r=100,  l=0)\n",
    "            )\n",
    "\n",
    "fig.update_layout(sliders=[{\"currentvalue\": {\"prefix\": \"Year=\"}}])\n",
    "fig.show()"
   ]
  },
  {
   "cell_type": "markdown",
   "id": "b05e0933",
   "metadata": {},
   "source": [
    "# New EV registered per year"
   ]
  },
  {
   "cell_type": "code",
   "execution_count": 453,
   "id": "86505c4e",
   "metadata": {},
   "outputs": [],
   "source": [
    "n=pd.read_json(state_name[0]+'_data.json', orient='records')\n",
    "n['Date']=n['Date'].dt.year\n",
    "n['State']=[state_name[0]]*n['Date'].shape[0]\n",
    "for i in state_name[1:]:\n",
    "    t=pd.read_json(i+'_data.json', orient='records')\n",
    "    t['Date']=t['Date'].dt.year\n",
    "    t['State']=[i]*t['Date'].shape[0]\n",
    "    n=pd.concat((n,t))"
   ]
  },
  {
   "cell_type": "code",
   "execution_count": 469,
   "id": "ea1a51e8",
   "metadata": {},
   "outputs": [],
   "source": [
    "dropdown_s=widgets.Dropdown(\n",
    "    options=state_name,\n",
    "    value='MI',\n",
    "    description='State:',\n",
    "    disabled=False,\n",
    ")\n",
    "dropdown_y=widgets.Dropdown(\n",
    "    options=list(range(2000,2023,1)),\n",
    "    value=2020,\n",
    "    description='Year:',\n",
    "    disabled=False,\n",
    ")"
   ]
  },
  {
   "cell_type": "code",
   "execution_count": 471,
   "id": "12853d2c",
   "metadata": {},
   "outputs": [
    {
     "data": {
      "application/vnd.jupyter.widget-view+json": {
       "model_id": "1c9e256761ef474db8530b3723c459a1",
       "version_major": 2,
       "version_minor": 0
      },
      "text/plain": [
       "interactive(children=(Dropdown(description='State:', index=5, options=('CA', 'CO', 'CT', 'FL', 'MT', 'MI', 'MN…"
      ]
     },
     "metadata": {},
     "output_type": "display_data"
    }
   ],
   "source": [
    "def plot_func(s,y):\n",
    "    nsy=n[(n['State']==s) & (n['Date']==y)]\n",
    "    fig = go.Figure()\n",
    "    fig = px.histogram(nsy,x='Make',title='EV sales in '+s+' in '+str(y)).update_xaxes(categoryorder='total descending')\n",
    "    fig.update_layout(width=700,height=500,margin=dict(t=30, b=0,r=0,  l=0))\n",
    "    fig.show()\n",
    "\n",
    "interact(plot_func, s = dropdown_s, y=dropdown_y);"
   ]
  },
  {
   "cell_type": "markdown",
   "id": "d8794d93",
   "metadata": {},
   "source": [
    "# Web scraping to get data for alternative fuel stations in the USA"
   ]
  },
  {
   "cell_type": "code",
   "execution_count": null,
   "id": "34c0d7be",
   "metadata": {},
   "outputs": [],
   "source": [
    "driver = webdriver.Edge(service=EdgeService(EdgeChromiumDriverManager().install()))"
   ]
  },
  {
   "cell_type": "code",
   "execution_count": null,
   "id": "412a74ce",
   "metadata": {},
   "outputs": [],
   "source": [
    "driver.get('https://afdc.energy.gov/data_download')\n",
    "Select(driver.find_element('xpath','//*[@id=\"download_data_api\"]')).select_by_visible_text('Alternative fuel stations')\n",
    "Select(driver.find_element('xpath','//*[@id=\"download_data_format\"]')).select_by_visible_text('CSV (opens in Excel)')\n",
    "Select(driver.find_element('xpath','//*[@id=\"download_data_api_options_alt_fuel_stations_fuel_type\"]')).select_by_visible_text('All')\n",
    "Select(driver.find_element('xpath','//*[@id=\"download_data_api_options_alt_fuel_stations_access\"]')).select_by_visible_text('All')\n",
    "Select(driver.find_element('xpath','//*[@id=\"download_data_api_options_alt_fuel_stations_status\"]')).select_by_visible_text('All')\n",
    "driver.find_element('xpath','//*[@id=\"download_api_user_first_name\"]').send_keys('Aditya')\n",
    "driver.find_element('xpath','//*[@id=\"download_api_user_last_name\"]').send_keys('Sundar')\n",
    "driver.find_element('xpath','//*[@id=\"download_api_user_email\"]').send_keys('aditya.1094@gmail.com')\n",
    "driver.find_element('xpath','//*[@id=\"download_api_user_terms_and_conditions\"]').click()\n",
    "time.sleep(3)\n",
    "driver.find_element('xpath','//*[@id=\"main_content\"]/form/input[3]').send_keys(Keys.ENTER)"
   ]
  },
  {
   "cell_type": "code",
   "execution_count": 526,
   "id": "4db480db",
   "metadata": {},
   "outputs": [],
   "source": [
    "fuels=pd.read_csv('alt_fuel_stations (Aug 10 2022).csv',dtype='object')\n",
    "ftype=fuels['Fuel Type Code'].unique()\n",
    "marker_c=['black','blue','red','green','brown','purple','orange']"
   ]
  },
  {
   "cell_type": "code",
   "execution_count": 567,
   "id": "8ee6b945",
   "metadata": {},
   "outputs": [
    {
     "data": {
      "application/vnd.jupyter.widget-view+json": {
       "model_id": "3e3aef9f9d524a848ed31c1fb1996e36",
       "version_major": 2,
       "version_minor": 0
      },
      "text/plain": [
       "interactive(children=(Dropdown(description='Fuel Type:', options=('CNG', 'E85', 'ELEC', 'LNG', 'LPG', 'BD', 'H…"
      ]
     },
     "metadata": {},
     "output_type": "display_data"
    }
   ],
   "source": [
    "dropdown_ftype=widgets.Dropdown(\n",
    "    options=ftype,\n",
    "    value=ftype[0],\n",
    "    description='Fuel Type:',\n",
    "    disabled=False,\n",
    ")\n",
    "\n",
    "def plot_func(f):\n",
    "    ff=fuels[fuels['Fuel Type Code']==f]\n",
    "    fig = go.Figure(data=go.Scattergeo(\n",
    "        locationmode = 'USA-states',\n",
    "        lon = ff['Longitude'],\n",
    "        lat = ff['Latitude'],\n",
    "        text = ff['City']+', '+ff['State'],\n",
    "        mode = 'markers',\n",
    "        hoverinfo='text',\n",
    "        marker = dict(\n",
    "            size = 4,\n",
    "            symbol = 'square',\n",
    "            color=marker_c[np.where(ftype==f)[0][0]])))\n",
    "\n",
    "    fig.update_layout(\n",
    "            title = 'Alternative fuel stations in the USA',\n",
    "            geo = dict(\n",
    "                scope='usa',\n",
    "                projection_type='albers usa',\n",
    "                showland = True,\n",
    "                landcolor = \"rgb(245, 245, 245)\",\n",
    "                subunitcolor = \"rgb(217, 217, 217)\",\n",
    "                countrycolor = \"rgb(217, 217, 217)\",\n",
    "                countrywidth = 0.5,\n",
    "                subunitwidth = 0.5,\n",
    "                \n",
    "            ),width=700,height=500,margin=dict(t=40, b=0,r=0,  l=0)\n",
    "        )\n",
    "    fig.show()\n",
    "    \n",
    "interact(plot_func, f = dropdown_ftype);"
   ]
  }
 ],
 "metadata": {
  "kernelspec": {
   "display_name": "Python 3",
   "language": "python",
   "name": "python3"
  },
  "language_info": {
   "codemirror_mode": {
    "name": "ipython",
    "version": 3
   },
   "file_extension": ".py",
   "mimetype": "text/x-python",
   "name": "python",
   "nbconvert_exporter": "python",
   "pygments_lexer": "ipython3",
   "version": "3.8.8"
  }
 },
 "nbformat": 4,
 "nbformat_minor": 5
}
